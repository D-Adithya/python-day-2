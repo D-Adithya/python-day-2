{
 "cells": [
  {
   "cell_type": "code",
   "execution_count": null,
   "id": "d7e33f06",
   "metadata": {},
   "outputs": [],
   "source": [
    "#RANDOM ROULETTE"
   ]
  },
  {
   "cell_type": "code",
   "execution_count": 2,
   "id": "1fff24d3",
   "metadata": {},
   "outputs": [
    {
     "name": "stdout",
     "output_type": "stream",
     "text": [
      "lets check who is going to pay the bill today\n",
      "\n",
      "Use commas to seperate the names\n",
      "\n",
      "enter the name of the persons:a,b,c,d\n",
      "['a', 'b', 'c', 'd'] \n",
      "\n",
      "*****************************************====*****************************\n",
      "c is going to  pay  the bill today\n"
     ]
    }
   ],
   "source": [
    "import random\n",
    "print(\"lets check who is going to pay the bill today\\n\")\n",
    "print(\"Use commas to seperate the names\")\n",
    "choice=input(\"\\nenter the name of the persons:\")\n",
    "list1=choice.split(',')\n",
    "print(list1,\"\\n\")\n",
    "a=len(list1)\n",
    "b=random.randint(0,a-1)\n",
    "print(\"*****************************************====*****************************\")\n",
    "print(list1[b],\"is going to  pay  the bill today\")\n"
   ]
  }
 ],
 "metadata": {
  "kernelspec": {
   "display_name": "Python 3 (ipykernel)",
   "language": "python",
   "name": "python3"
  },
  "language_info": {
   "codemirror_mode": {
    "name": "ipython",
    "version": 3
   },
   "file_extension": ".py",
   "mimetype": "text/x-python",
   "name": "python",
   "nbconvert_exporter": "python",
   "pygments_lexer": "ipython3",
   "version": "3.10.9"
  }
 },
 "nbformat": 4,
 "nbformat_minor": 5
}
