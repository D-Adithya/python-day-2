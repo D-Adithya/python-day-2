{
 "cells": [
  {
   "cell_type": "code",
   "execution_count": null,
   "id": "fbad106a",
   "metadata": {},
   "outputs": [],
   "source": [
    "#head or tail game"
   ]
  },
  {
   "cell_type": "code",
   "execution_count": null,
   "id": "6725c975",
   "metadata": {},
   "outputs": [],
   "source": [
    "import random\n",
    "choice=random.randint(0,1)\n",
    "if choice==1:\n",
    "    a='Heads'\n",
    "else:\n",
    "    a='Tail'\n",
    "predict=input(\"\\nnow say Heads or Tail?  \")\n",
    "if predict==a:\n",
    "    print(\"\\nyour answer is correct!! the toss is \",predict)\n",
    "else:\n",
    "    print(\"\\nbad choice!! better luck next time\")\n",
    "    print(\"\\nthe toss is\",a)"
   ]
  }
 ],
 "metadata": {
  "kernelspec": {
   "display_name": "Python 3 (ipykernel)",
   "language": "python",
   "name": "python3"
  },
  "language_info": {
   "codemirror_mode": {
    "name": "ipython",
    "version": 3
   },
   "file_extension": ".py",
   "mimetype": "text/x-python",
   "name": "python",
   "nbconvert_exporter": "python",
   "pygments_lexer": "ipython3",
   "version": "3.10.9"
  }
 },
 "nbformat": 4,
 "nbformat_minor": 5
}
