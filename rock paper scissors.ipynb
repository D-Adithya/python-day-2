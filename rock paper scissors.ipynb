{
 "cells": [
  {
   "cell_type": "code",
   "execution_count": null,
   "id": "c02dd77a",
   "metadata": {},
   "outputs": [],
   "source": [
    "#ROCK PAPER SCISSORS !!!!!!!!!!!"
   ]
  },
  {
   "cell_type": "code",
   "execution_count": 1,
   "id": "9908c9e9",
   "metadata": {},
   "outputs": [
    {
     "name": "stdout",
     "output_type": "stream",
     "text": [
      "enter your choice: 0 for rock, 1 for paper,2 for scissors:0\n",
      "\n",
      "    _______\n",
      "---'   ____)\n",
      "      (_____)\n",
      "      (_____)\n",
      "      (____)\n",
      "---.__(___)\n",
      "\n",
      "computer chooses\n",
      "\n",
      "    _______\n",
      "---'   ____)____\n",
      "          ______)\n",
      "       __________)\n",
      "      (____)\n",
      "---.__(___)\n",
      "\n",
      "rock beats scissors! hence you wins\n"
     ]
    }
   ],
   "source": [
    "import random \n",
    "rock=(\"\"\"\n",
    "    _______\n",
    "---'   ____)\n",
    "      (_____)\n",
    "      (_____)\n",
    "      (____)\n",
    "---.__(___)\n",
    "\"\"\")\n",
    "\n",
    "# Paper\n",
    "paper=(\"\"\"\n",
    "     _______\n",
    "---'    ____)____\n",
    "           ______)\n",
    "          _______)\n",
    "         _______)\n",
    "---.__________)\n",
    "\"\"\")\n",
    "\n",
    "# Scissors\n",
    "scissors=(\"\"\"\n",
    "    _______\n",
    "---'   ____)____\n",
    "          ______)\n",
    "       __________)\n",
    "      (____)\n",
    "---.__(___)\n",
    "\"\"\")\n",
    "\n",
    "list1=[rock,paper,scissors]\n",
    "computer_choice=random.randint(0,2)\n",
    "computer_choice=int(computer_choice)\n",
    "b=computer_choice\n",
    "\n",
    "\n",
    "\n",
    "user_choice=input(\"enter your choice: 0 for rock, 1 for paper,2 for scissors:\")\n",
    "user_choice=int(user_choice)\n",
    "a=user_choice\n",
    "print(list1[user_choice])\n",
    "print(\"computer chooses\")\n",
    "print(list1[computer_choice])\n",
    "\n",
    "if a==0 and b==0:\n",
    "    print(\"it is a draw\")\n",
    "elif a==0 and b==1:\n",
    "    print(\"paper beats rock! hence computer wins\")\n",
    "elif a==0 and b==2:\n",
    "    print(\"rock beats scissors! hence you wins\")\n",
    "elif a==1 and b==0:\n",
    "    print(\"paper beats rock! hence you wins\")\n",
    "elif a==1 and b==1:\n",
    "    print(\"it is a draw\")\n",
    "elif a==1 and b==2:\n",
    "    print(\"scissor cuts paper! hence computer wins\")\n",
    "elif a==2 and b==0:\n",
    "    print(\"rock beats scissors! hence computer wins\")\n",
    "elif a==2 and b==1:\n",
    "    print(\"scissor cuts paper! hence you wins\")\n",
    "elif a==2 and b==2:\n",
    "    print(\"it is a draw\")\n",
    "else:\n",
    "    pass\n"
   ]
  }
 ],
 "metadata": {
  "kernelspec": {
   "display_name": "Python 3 (ipykernel)",
   "language": "python",
   "name": "python3"
  },
  "language_info": {
   "codemirror_mode": {
    "name": "ipython",
    "version": 3
   },
   "file_extension": ".py",
   "mimetype": "text/x-python",
   "name": "python",
   "nbconvert_exporter": "python",
   "pygments_lexer": "ipython3",
   "version": "3.10.9"
  }
 },
 "nbformat": 4,
 "nbformat_minor": 5
}
