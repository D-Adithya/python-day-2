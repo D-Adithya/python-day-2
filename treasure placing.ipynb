{
 "cells": [
  {
   "cell_type": "code",
   "execution_count": null,
   "id": "1fff24d3",
   "metadata": {},
   "outputs": [],
   "source": [
    "#TREASURE PLACEMENTS"
   ]
  },
  {
   "cell_type": "code",
   "execution_count": 2,
   "id": "49ab36f9",
   "metadata": {},
   "outputs": [
    {
     "name": "stdout",
     "output_type": "stream",
     "text": [
      "\n",
      " ['*', '*', '*'] \n",
      " ['*', '*', '*'] \n",
      " ['*', '*', '*']\n",
      "\n",
      "which place are you going to place the treasure:11\n",
      "\n",
      "\n",
      "\n",
      " ['x', '*', '*'] \n",
      " ['*', '*', '*'] \n",
      " ['*', '*', '*']\n"
     ]
    }
   ],
   "source": [
    "row1=['*','*','*']\n",
    "row2=['*','*','*']\n",
    "row3=['*','*','*']\n",
    "mapping=[row1,row2,row3]\n",
    "\n",
    "\n",
    "print(\"\\n\",row1,\"\\n\",row2,\"\\n\",row3)\n",
    "\n",
    "choice=input(\"\\nwhich place are you going to place the treasure:\")\n",
    "print(\"\\n\")\n",
    "horizontal=int(choice[0])\n",
    "vertical=int(choice[1])\n",
    "\n",
    "position=mapping[horizontal-1]\n",
    "\n",
    "position[vertical-1]=\"x\"\n",
    "\n",
    "print(\"\\n\",row1,\"\\n\",row2,\"\\n\",row3)\n"
   ]
  },
  {
   "cell_type": "code",
   "execution_count": null,
   "id": "6eb40a8a",
   "metadata": {},
   "outputs": [],
   "source": []
  }
 ],
 "metadata": {
  "kernelspec": {
   "display_name": "Python 3 (ipykernel)",
   "language": "python",
   "name": "python3"
  },
  "language_info": {
   "codemirror_mode": {
    "name": "ipython",
    "version": 3
   },
   "file_extension": ".py",
   "mimetype": "text/x-python",
   "name": "python",
   "nbconvert_exporter": "python",
   "pygments_lexer": "ipython3",
   "version": "3.10.9"
  }
 },
 "nbformat": 4,
 "nbformat_minor": 5
}
